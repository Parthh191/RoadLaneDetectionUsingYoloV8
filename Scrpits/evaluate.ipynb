{
 "cells": [
  {
   "cell_type": "code",
   "execution_count": 1,
   "metadata": {},
   "outputs": [],
   "source": [
    "import os\n",
    "from ultralytics import YOLO"
   ]
  },
  {
   "cell_type": "code",
   "execution_count": 2,
   "metadata": {},
   "outputs": [],
   "source": [
    "# Load the YOLO model\n",
    "model = YOLO('../models/yolo8_lane_detection/train2/weights/best.pt')"
   ]
  },
  {
   "cell_type": "code",
   "execution_count": 3,
   "metadata": {},
   "outputs": [],
   "source": [
    "test_images = [\n",
    "    '../models/yolo8_lane_detection/train/train_batch0.jpg',\n",
    "    '.../models/yolo8_lane_detection/train/train_batch2.jpg',\n",
    "    '../models/yolo8_lane_detection/train/train_batch10.jpg',\n",
    "    '../models/yolo8_lane_detection/train/train_batch11.jpg',\n",
    "    '../models/yolo8_lane_detection/train/train_batch12.jpg',\n",
    "    # Add more images as needed\n",
    "]"
   ]
  },
  {
   "cell_type": "code",
   "execution_count": 4,
   "metadata": {},
   "outputs": [],
   "source": [
    "# Define the folder where you want to save the outputs\n",
    "output_folder = '../Test'"
   ]
  },
  {
   "cell_type": "code",
   "execution_count": 5,
   "metadata": {},
   "outputs": [],
   "source": [
    "# Create the output folder if it doesn't exist\n",
    "os.makedirs(output_folder, exist_ok=True)"
   ]
  },
  {
   "cell_type": "code",
   "execution_count": 6,
   "metadata": {},
   "outputs": [
    {
     "name": "stdout",
     "output_type": "stream",
     "text": [
      "\n",
      "image 1/1 /home/coderwizard/projects/RoadLaneDetection/Scrpits/../models/yolo8_lane_detection/train/train_batch0.jpg: 640x640 (no detections), 120.1ms\n",
      "Speed: 2.6ms preprocess, 120.1ms inference, 1.4ms postprocess per image at shape (1, 3, 640, 640)\n",
      "File not found: .../models/yolo8_lane_detection/train/train_batch2.jpg\n",
      "\n",
      "image 1/1 /home/coderwizard/projects/RoadLaneDetection/Scrpits/../models/yolo8_lane_detection/train/train_batch10.jpg: 640x640 (no detections), 103.8ms\n",
      "Speed: 1.8ms preprocess, 103.8ms inference, 0.5ms postprocess per image at shape (1, 3, 640, 640)\n",
      "\n",
      "image 1/1 /home/coderwizard/projects/RoadLaneDetection/Scrpits/../models/yolo8_lane_detection/train/train_batch11.jpg: 640x640 (no detections), 58.0ms\n",
      "Speed: 2.1ms preprocess, 58.0ms inference, 0.5ms postprocess per image at shape (1, 3, 640, 640)\n",
      "\n",
      "image 1/1 /home/coderwizard/projects/RoadLaneDetection/Scrpits/../models/yolo8_lane_detection/train/train_batch12.jpg: 640x640 (no detections), 104.5ms\n",
      "Speed: 1.8ms preprocess, 104.5ms inference, 0.5ms postprocess per image at shape (1, 3, 640, 640)\n"
     ]
    }
   ],
   "source": [
    "# Assuming test_images is a list of paths to your test images\n",
    "for image_path in test_images:\n",
    "    # Check if the image file exists\n",
    "    if os.path.isfile(image_path):\n",
    "        results = model.predict(source=image_path, imgsz=640)\n",
    "\n",
    "        # Save each result individually in the specified output folder\n",
    "        for result in results:\n",
    "            # Create a unique output file name based on the input image name\n",
    "            input_filename = os.path.basename(image_path)  # Get the file name from the path\n",
    "            output_filename = os.path.splitext(input_filename)[0] + '_result.jpg'  # Change extension if needed\n",
    "            output_path = os.path.join(output_folder, output_filename)  # Full path for saving the result\n",
    "\n",
    "            result.save(output_path)  # Save detection output to the specified path\n",
    "    else:\n",
    "        print(f\"File not found: {image_path}\")\n"
   ]
  }
 ],
 "metadata": {
  "kernelspec": {
   "display_name": ".venv",
   "language": "python",
   "name": "python3"
  },
  "language_info": {
   "codemirror_mode": {
    "name": "ipython",
    "version": 3
   },
   "file_extension": ".py",
   "mimetype": "text/x-python",
   "name": "python",
   "nbconvert_exporter": "python",
   "pygments_lexer": "ipython3",
   "version": "3.12.3"
  }
 },
 "nbformat": 4,
 "nbformat_minor": 2
}
