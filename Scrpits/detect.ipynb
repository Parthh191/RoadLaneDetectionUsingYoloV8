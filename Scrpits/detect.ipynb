{
 "cells": [
  {
   "cell_type": "code",
   "execution_count": 13,
   "metadata": {},
   "outputs": [],
   "source": [
    "import os\n",
    "from ultralytics import YOLO"
   ]
  },
  {
   "cell_type": "code",
   "execution_count": 14,
   "metadata": {},
   "outputs": [],
   "source": [
    "def load_model(model_path='yolov8n.pt'):\n",
    "    # Load the YOLOv8 model using the YOLO class\n",
    "    model = YOLO(model_path)  # Correctly load the model\n",
    "    return model"
   ]
  },
  {
   "cell_type": "code",
   "execution_count": 15,
   "metadata": {},
   "outputs": [],
   "source": [
    "def detect_images(model, image_paths, output_folder, imgsz=640):\n",
    "    # Create the output folder if it doesn't exist\n",
    "    os.makedirs(output_folder, exist_ok=True)\n",
    "\n",
    "    for image_path in image_paths:\n",
    "        # Check if the image file exists\n",
    "        if os.path.isfile(image_path):\n",
    "            # Perform detection\n",
    "            results = model.predict(source=image_path, imgsz=imgsz)\n",
    "\n",
    "            # Save each result individually in the specified output folder\n",
    "            for result in results:\n",
    "                # Create a unique output file name based on the input image name\n",
    "                input_filename = os.path.basename(image_path)  # Get the file name from the path\n",
    "                output_filename = os.path.splitext(input_filename)[0] + '_result.png'  # Change extension if needed\n",
    "                output_path = os.path.join(output_folder, output_filename)  # Full path for saving the result\n",
    "\n",
    "                # Save the result image to the specified output path\n",
    "                result.save(output_path)  # Save detection output to the specified path\n",
    "                print(f\"Saved detection result to: {output_path}\")  # Log saved path\n",
    "        else:\n",
    "            print(f\"File not found: {image_path}\")"
   ]
  },
  {
   "cell_type": "code",
   "execution_count": 16,
   "metadata": {},
   "outputs": [
    {
     "name": "stdout",
     "output_type": "stream",
     "text": [
      "\n",
      "image 1/1 /home/coderwizard/projects/RoadLaneDetection/Scrpits/../data/Screenshot/data.png: 480x640 2 trucks, 87.9ms\n",
      "Speed: 3.2ms preprocess, 87.9ms inference, 1.0ms postprocess per image at shape (1, 3, 480, 640)\n",
      "Saved detection result to: ../Detect/data_result.png\n"
     ]
    }
   ],
   "source": [
    "if __name__ == \"__main__\":\n",
    "    # Specify the path to your model and input images\n",
    "    model_path = 'yolov8n.pt'  # Path to the YOLOv8 model\n",
    "    test_images = ['../data/Screenshot/data.png']  # List of image paths\n",
    "    output_folder = '../Detect'  # Path to save the results\n",
    "\n",
    "    # Load the YOLOv8 model\n",
    "    model = load_model(model_path)\n",
    "\n",
    "    # Run detection\n",
    "    detect_images(model, test_images, output_folder)"
   ]
  }
 ],
 "metadata": {
  "kernelspec": {
   "display_name": ".venv",
   "language": "python",
   "name": "python3"
  },
  "language_info": {
   "codemirror_mode": {
    "name": "ipython",
    "version": 3
   },
   "file_extension": ".py",
   "mimetype": "text/x-python",
   "name": "python",
   "nbconvert_exporter": "python",
   "pygments_lexer": "ipython3",
   "version": "3.12.3"
  }
 },
 "nbformat": 4,
 "nbformat_minor": 2
}
