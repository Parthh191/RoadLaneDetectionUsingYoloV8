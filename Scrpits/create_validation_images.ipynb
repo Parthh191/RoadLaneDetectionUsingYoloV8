{
 "cells": [
  {
   "cell_type": "code",
   "execution_count": 9,
   "metadata": {},
   "outputs": [],
   "source": [
    "import cv2\n",
    "import numpy as np\n",
    "import os"
   ]
  },
  {
   "cell_type": "code",
   "execution_count": 10,
   "metadata": {},
   "outputs": [],
   "source": [
    "# Create output directories\n",
    "output_dir = '../data/images/val'\n",
    "os.makedirs(output_dir, exist_ok=True)\n",
    "label_dir = '../data/labels/val'\n",
    "os.makedirs(label_dir, exist_ok=True)\n"
   ]
  },
  {
   "cell_type": "code",
   "execution_count": 11,
   "metadata": {},
   "outputs": [],
   "source": [
    "# Parameters\n",
    "image_size = (640, 480)\n",
    "lane_color = (255, 255, 255)  # White lane lines\n",
    "num_images = 5  # Number of validation images to create"
   ]
  },
  {
   "cell_type": "code",
   "execution_count": 12,
   "metadata": {},
   "outputs": [],
   "source": [
    "for i in range(num_images):\n",
    "    # Create a black image\n",
    "    image = np.zeros((image_size[1], image_size[0], 3), dtype=np.uint8)\n",
    "\n",
    "    # Draw lane markings\n",
    "    cv2.line(image, (160, 480), (240, 0), lane_color, 5)  # Left lane\n",
    "    cv2.line(image, (480, 480), (400, 0), lane_color, 5)  # Right lane\n",
    "\n",
    "    # Add some noise\n",
    "    if np.random.rand() < 0.5:\n",
    "        cv2.line(image, (0, 240), (640, 240), (100, 100, 100), 2)  # Center line\n",
    "\n",
    "    # Save image\n",
    "    cv2.imwrite(f'{output_dir}/val_lane_{i}.jpg', image)\n",
    "\n",
    "    # Create a label file\n",
    "    with open(f'{label_dir}/val_lane_{i}.txt', 'w') as f:\n",
    "        # Each line is \"class_id center_x center_y width height\"\n",
    "        # For simplicity, we assume the lane is always in the center of the image\n",
    "        # Class ID for lane is 0 (as per your data_config)\n",
    "        f.write('0 0.5 0.5 0.2 0.4\\n')  # Example values\n"
   ]
  }
 ],
 "metadata": {
  "kernelspec": {
   "display_name": ".venv",
   "language": "python",
   "name": "python3"
  },
  "language_info": {
   "codemirror_mode": {
    "name": "ipython",
    "version": 3
   },
   "file_extension": ".py",
   "mimetype": "text/x-python",
   "name": "python",
   "nbconvert_exporter": "python",
   "pygments_lexer": "ipython3",
   "version": "3.12.3"
  }
 },
 "nbformat": 4,
 "nbformat_minor": 2
}
